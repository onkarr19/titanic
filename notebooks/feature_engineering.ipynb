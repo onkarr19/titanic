{
 "cells": [
  {
   "cell_type": "code",
   "execution_count": 1,
   "id": "174b1ad8",
   "metadata": {},
   "outputs": [],
   "source": [
    "import sys\n",
    "sys.path.append('../')"
   ]
  },
  {
   "cell_type": "code",
   "execution_count": 2,
   "id": "a2822c6c",
   "metadata": {},
   "outputs": [],
   "source": [
    "from src.data_loader import *"
   ]
  },
  {
   "cell_type": "code",
   "execution_count": 3,
   "id": "1a68c032",
   "metadata": {},
   "outputs": [],
   "source": [
    "train = load_data_from_pickle('../data/intermediate/train.pkl')\n",
    "test = load_data_from_pickle('../data/intermediate/test.pkl')"
   ]
  },
  {
   "cell_type": "code",
   "execution_count": 4,
   "id": "42457830",
   "metadata": {},
   "outputs": [],
   "source": [
    "train['TicketPrefix'] = train['Ticket'].str.extract('([A-Za-z]+)', expand=False)\n",
    "test['TicketPrefix'] = test['Ticket'].str.extract('([A-Za-z]+)', expand=False)"
   ]
  },
  {
   "cell_type": "code",
   "execution_count": 5,
   "id": "7ca3981c",
   "metadata": {},
   "outputs": [],
   "source": [
    "from sklearn.preprocessing import OneHotEncoder"
   ]
  },
  {
   "cell_type": "code",
   "execution_count": 6,
   "id": "853beea9",
   "metadata": {},
   "outputs": [],
   "source": [
    "train['TicketPattern'] = train['Ticket'].str.contains('[A-Za-z]').map({False: 'Digits', True: 'AlphaNumeric'})\n",
    "test['TicketPattern'] = test['Ticket'].str.contains('[A-Za-z]').map({False: 'Digits', True: 'AlphaNumeric'})"
   ]
  },
  {
   "cell_type": "code",
   "execution_count": 7,
   "id": "9a13882c",
   "metadata": {},
   "outputs": [],
   "source": [
    "train.drop('Ticket', axis=1, inplace=True)\n",
    "test.drop('Ticket', axis=1, inplace=True)"
   ]
  },
  {
   "cell_type": "code",
   "execution_count": 8,
   "id": "554e9612",
   "metadata": {},
   "outputs": [],
   "source": [
    "encoder = OneHotEncoder(sparse_output=False, handle_unknown='ignore')\n",
    "\n",
    "encoded_features_train = encoder.fit_transform(train[['TicketPattern']])\n",
    "train_encoded = pd.concat([train.drop('TicketPattern', axis=1), pd.DataFrame(encoded_features_train, columns=encoder.get_feature_names_out(['TicketPattern']))], axis=1)\n",
    "\n",
    "encoded_features_test = encoder.transform(test[['TicketPattern']])\n",
    "test_encoded = pd.concat([test.drop('TicketPattern', axis=1), pd.DataFrame(encoded_features_test, columns=encoder.get_feature_names_out(['TicketPattern']))], axis=1)"
   ]
  },
  {
   "cell_type": "code",
   "execution_count": 9,
   "id": "541e005a",
   "metadata": {},
   "outputs": [],
   "source": [
    "ticket_prefix_train = train[['TicketPrefix']]\n",
    "ticket_prefix_test = test[['TicketPrefix']]"
   ]
  },
  {
   "cell_type": "code",
   "execution_count": 10,
   "id": "6a963c44",
   "metadata": {},
   "outputs": [],
   "source": [
    "encoder = OneHotEncoder(sparse_output=False, handle_unknown='ignore')\n",
    "encoded_ticket_prefix_train = encoder.fit_transform(ticket_prefix_train)\n",
    "encoded_ticket_prefix_test = encoder.transform(ticket_prefix_test)"
   ]
  },
  {
   "cell_type": "code",
   "execution_count": 11,
   "id": "0eba4e93",
   "metadata": {},
   "outputs": [],
   "source": [
    "encoded_ticket_prefix_train_df = pd.DataFrame(encoded_ticket_prefix_train, columns=encoder.get_feature_names_out(['TicketPrefix']))\n",
    "encoded_ticket_prefix_test_df = pd.DataFrame(encoded_ticket_prefix_test, columns=encoder.get_feature_names_out(['TicketPrefix']))"
   ]
  },
  {
   "cell_type": "code",
   "execution_count": 12,
   "id": "d00540e7",
   "metadata": {},
   "outputs": [],
   "source": [
    "train = pd.concat([train, encoded_ticket_prefix_train_df], axis=1)\n",
    "test = pd.concat([test, encoded_ticket_prefix_test_df], axis=1)"
   ]
  },
  {
   "cell_type": "code",
   "execution_count": 13,
   "id": "9c9e7049",
   "metadata": {},
   "outputs": [],
   "source": [
    "train.drop(['TicketPrefix', 'TicketPattern'], axis=1, inplace=True)\n",
    "test.drop(['TicketPrefix', 'TicketPattern'], axis=1, inplace=True)"
   ]
  },
  {
   "cell_type": "code",
   "execution_count": 14,
   "id": "bd3e7ee6",
   "metadata": {},
   "outputs": [],
   "source": [
    "save_data_as_pickle(train, '../data/processed/train.pkl')\n",
    "save_data_as_pickle(test, '../data/processed/test.pkl')"
   ]
  },
  {
   "cell_type": "code",
   "execution_count": null,
   "id": "662bb5ba",
   "metadata": {},
   "outputs": [],
   "source": []
  }
 ],
 "metadata": {
  "kernelspec": {
   "display_name": "Python 3 (ipykernel)",
   "language": "python",
   "name": "python3"
  },
  "language_info": {
   "codemirror_mode": {
    "name": "ipython",
    "version": 3
   },
   "file_extension": ".py",
   "mimetype": "text/x-python",
   "name": "python",
   "nbconvert_exporter": "python",
   "pygments_lexer": "ipython3",
   "version": "3.9.6"
  }
 },
 "nbformat": 4,
 "nbformat_minor": 5
}
